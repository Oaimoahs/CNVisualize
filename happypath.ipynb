{
 "cells": [
  {
   "cell_type": "code",
   "execution_count": 19,
   "metadata": {},
   "outputs": [],
   "source": [
    "def read_chrom_size(path):\n",
    "    chroms = open(path, \"r\")\n",
    "    chrom_size_dict = {}\n",
    "    for line in chroms.readlines():\n",
    "        line = line.strip().split(\"\\t\")\n",
    "        chrom_size_dict[line[0]] = int(line[1])\n",
    "    return chrom_size_dict\n",
    "\n"
   ]
  },
  {
   "cell_type": "code",
   "execution_count": 20,
   "metadata": {},
   "outputs": [
    {
     "data": {
      "text/plain": [
       "{'chr1': 249250621,\n",
       " 'chr2': 243199373,\n",
       " 'chr3': 198022430,\n",
       " 'chr4': 191154276,\n",
       " 'chr5': 180915260,\n",
       " 'chr6': 171115067,\n",
       " 'chr7': 159138663,\n",
       " 'chr8': 146364022,\n",
       " 'chr9': 141213431,\n",
       " 'chr10': 135534747,\n",
       " 'chr11': 135006516,\n",
       " 'chr12': 133851895,\n",
       " 'chr13': 115169878,\n",
       " 'chr14': 107349540,\n",
       " 'chr15': 102531392,\n",
       " 'chr16': 90354753,\n",
       " 'chr17': 81195210,\n",
       " 'chr18': 78077248,\n",
       " 'chr20': 63025520,\n",
       " 'chr19': 59128983,\n",
       " 'chr22': 51304566,\n",
       " 'chr21': 48129895,\n",
       " 'chrX': 155270560,\n",
       " 'chrY': 59373566}"
      ]
     },
     "execution_count": 20,
     "metadata": {},
     "output_type": "execute_result"
    }
   ],
   "source": [
    "read_chrom_size(\"data/hg19.chrom.sizes\")"
   ]
  }
 ],
 "metadata": {
  "kernelspec": {
   "display_name": "base",
   "language": "python",
   "name": "python3"
  },
  "language_info": {
   "codemirror_mode": {
    "name": "ipython",
    "version": 3
   },
   "file_extension": ".py",
   "mimetype": "text/x-python",
   "name": "python",
   "nbconvert_exporter": "python",
   "pygments_lexer": "ipython3",
   "version": "3.9.13"
  },
  "orig_nbformat": 4,
  "vscode": {
   "interpreter": {
    "hash": "765e7b749b3dee6301a544234b3a2e570d3d712084fd93f9439e0778c3a0bb9f"
   }
  }
 },
 "nbformat": 4,
 "nbformat_minor": 2
}
