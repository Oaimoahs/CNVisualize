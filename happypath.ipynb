{
 "cells": [
  {
   "cell_type": "code",
   "execution_count": 6,
   "metadata": {},
   "outputs": [
    {
     "ename": "SyntaxError",
     "evalue": "invalid syntax (3658288862.py, line 1)",
     "output_type": "error",
     "traceback": [
      "\u001b[0;36m  Cell \u001b[0;32mIn[6], line 1\u001b[0;36m\u001b[0m\n\u001b[0;31m    from CNVisualize/numbywindows.py import *\u001b[0m\n\u001b[0m                    ^\u001b[0m\n\u001b[0;31mSyntaxError\u001b[0m\u001b[0;31m:\u001b[0m invalid syntax\n"
     ]
    }
   ],
   "source": [
    "from CNVisualize/numbywindows.py import *"
   ]
  },
  {
   "cell_type": "code",
   "execution_count": 3,
   "metadata": {},
   "outputs": [],
   "source": [
    "def read_chrom_size(path):\n",
    "    chroms = open(path, \"r\")\n",
    "    chrom_size_dict = {}\n",
    "    for line in chroms.readlines():\n",
    "        line = line.strip().split(\"\\t\")\n",
    "        chrom_size_dict[line[0]] = int(line[1])\n",
    "    return chrom_size_dict\n",
    "\n"
   ]
  },
  {
   "cell_type": "code",
   "execution_count": 4,
   "metadata": {},
   "outputs": [],
   "source": [
    "chrom_size_dict = read_chrom_size(\"data/hg19.chrom.sizes\")"
   ]
  },
  {
   "cell_type": "code",
   "execution_count": 5,
   "metadata": {},
   "outputs": [],
   "source": [
    "def window_indices(size, chrom_sizes):\n",
    "    chroms = list(chrom_sizes.keys())\n",
    "    windows_region = []\n",
    "    for chrom in chroms:\n",
    "        pos = 0\n",
    "        while pos + 1 + size < chrom_sizes[chrom]:\n",
    "            windows_region.append(chrom + \":\" + str(pos+1) + \"-\" + str(pos+size))\n",
    "            pos += size\n",
    "        windows_region.append(chrom + \":\" + str(pos+1) + \"-\" + str(chrom_sizes[chrom]))\n",
    "    return windows_region\n"
   ]
  },
  {
   "cell_type": "code",
   "execution_count": 6,
   "metadata": {},
   "outputs": [],
   "source": [
    "windows_region = window_indices(500000, chrom_size_dict)"
   ]
  },
  {
   "cell_type": "code",
   "execution_count": 7,
   "metadata": {},
   "outputs": [
    {
     "name": "stdout",
     "output_type": "stream",
     "text": [
      "6206\n"
     ]
    }
   ],
   "source": [
    "print(len(windows_region))"
   ]
  },
  {
   "cell_type": "code",
   "execution_count": 8,
   "metadata": {},
   "outputs": [],
   "source": [
    "import os"
   ]
  },
  {
   "cell_type": "code",
   "execution_count": 9,
   "metadata": {},
   "outputs": [],
   "source": [
    "def get_numreads(bam, region):\n",
    "    output = os.popen('samtools coverage -r %s %s' % (region, bam))\n",
    "    print(output)\n",
    "    # line = output.read()\n",
    "    # print(line)\n",
    "    # numreads = line.strip('\\n').split('\\n')[1].split('\\t')[3]\n",
    "    # return numreads"
   ]
  },
  {
   "cell_type": "code",
   "execution_count": 10,
   "metadata": {},
   "outputs": [
    {
     "name": "stdout",
     "output_type": "stream",
     "text": [
      "<os._wrap_close object at 0x7fef00990790>\n"
     ]
    },
    {
     "name": "stderr",
     "output_type": "stream",
     "text": [
      "dyld[74679]: Library not loaded: @rpath/libcrypto.1.0.0.dylib\n",
      "  Referenced from: <3FAE4B52-2497-3D93-BE35-525AAAE38804> /Users/shaomiao/opt/anaconda3/envs/scCNV/bin/samtools\n",
      "  Reason: tried: '/Users/shaomiao/opt/anaconda3/envs/scCNV/bin/../lib/libcrypto.1.0.0.dylib' (no such file), '/Users/shaomiao/opt/anaconda3/envs/scCNV/bin/../lib/libcrypto.1.0.0.dylib' (no such file), '/System/Volumes/Preboot/Cryptexes/OS@rpath/libcrypto.1.0.0.dylib' (no such file), '/Users/shaomiao/opt/anaconda3/envs/scCNV/bin/../lib/libcrypto.1.0.0.dylib' (no such file), '/Users/shaomiao/opt/anaconda3/envs/scCNV/bin/../lib/libcrypto.1.0.0.dylib' (no such file), '/usr/local/lib/libcrypto.1.0.0.dylib' (no such file), '/usr/lib/libcrypto.1.0.0.dylib' (no such file, not in dyld cache)\n"
     ]
    }
   ],
   "source": [
    "get_numreads(\"../../bams/ACGCCAGAGCAGTACG-1_B12_sorted.bam\", windows_region[0])"
   ]
  }
 ],
 "metadata": {
  "kernelspec": {
   "display_name": "scCNV",
   "language": "python",
   "name": "python3"
  },
  "language_info": {
   "codemirror_mode": {
    "name": "ipython",
    "version": 3
   },
   "file_extension": ".py",
   "mimetype": "text/x-python",
   "name": "python",
   "nbconvert_exporter": "python",
   "pygments_lexer": "ipython3",
   "version": "3.10.9"
  },
  "orig_nbformat": 4,
  "vscode": {
   "interpreter": {
    "hash": "5caffcc36621ca9d4545ccbb9f9cab3414dbe768ec47b176ecb90f74945573ed"
   }
  }
 },
 "nbformat": 4,
 "nbformat_minor": 2
}
