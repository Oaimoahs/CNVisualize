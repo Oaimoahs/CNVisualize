{
 "cells": [
  {
   "cell_type": "code",
   "execution_count": 1,
   "metadata": {},
   "outputs": [],
   "source": [
    "def read_chrom_size(path):\n",
    "    chroms = open(path, \"r\")\n",
    "    chrom_size_dict = {}\n",
    "    for line in chroms.readlines():\n",
    "        line = line.strip().split(\"\\t\")\n",
    "        chrom_size_dict[line[0]] = int(line[1])\n",
    "    return chrom_size_dict\n",
    "\n"
   ]
  },
  {
   "cell_type": "code",
   "execution_count": 2,
   "metadata": {},
   "outputs": [],
   "source": [
    "chrom_size_dict = read_chrom_size(\"data/hg19.chrom.sizes\")"
   ]
  },
  {
   "cell_type": "code",
   "execution_count": 3,
   "metadata": {},
   "outputs": [],
   "source": [
    "def window_indices(size, chrom_sizes):\n",
    "    chroms = list(chrom_sizes.keys())\n",
    "    # print(chroms)\n",
    "    windows_region = []\n",
    "    for chrom in chroms:\n",
    "        pos = 0\n",
    "        while pos + 1 + size < chrom_sizes[chrom]:\n",
    "            windows_region.append(chrom + \":\" + str(pos+1) + \"-\" + str(pos+size))\n",
    "            pos += size\n",
    "        windows_region.append(chrom + \":\" + str(pos+1) + \"-\" + str(chrom_sizes[chrom]))\n",
    "    return windows_region\n"
   ]
  },
  {
   "cell_type": "code",
   "execution_count": 4,
   "metadata": {},
   "outputs": [],
   "source": [
    "windows_region = window_indices(500000, chrom_size_dict)"
   ]
  },
  {
   "cell_type": "code",
   "execution_count": 5,
   "metadata": {},
   "outputs": [
    {
     "name": "stdout",
     "output_type": "stream",
     "text": [
      "6206\n"
     ]
    }
   ],
   "source": [
    "print(len(windows_region))"
   ]
  },
  {
   "cell_type": "code",
   "execution_count": null,
   "metadata": {},
   "outputs": [],
   "source": []
  }
 ],
 "metadata": {
  "kernelspec": {
   "display_name": "scCNV",
   "language": "python",
   "name": "python3"
  },
  "language_info": {
   "codemirror_mode": {
    "name": "ipython",
    "version": 3
   },
   "file_extension": ".py",
   "mimetype": "text/x-python",
   "name": "python",
   "nbconvert_exporter": "python",
   "pygments_lexer": "ipython3",
   "version": "3.10.9"
  },
  "orig_nbformat": 4,
  "vscode": {
   "interpreter": {
    "hash": "5caffcc36621ca9d4545ccbb9f9cab3414dbe768ec47b176ecb90f74945573ed"
   }
  }
 },
 "nbformat": 4,
 "nbformat_minor": 2
}
