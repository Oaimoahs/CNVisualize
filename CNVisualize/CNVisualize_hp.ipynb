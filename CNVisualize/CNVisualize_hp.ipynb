{
 "cells": [
  {
   "cell_type": "code",
   "execution_count": 6,
   "metadata": {},
   "outputs": [],
   "source": [
    "import os"
   ]
  },
  {
   "cell_type": "code",
   "execution_count": null,
   "metadata": {},
   "outputs": [],
   "source": [
    "# If you do not have samtools installed in your current environment.\n",
    "os.popen(\"conda install -c bioconda samtools\")"
   ]
  },
  {
   "cell_type": "code",
   "execution_count": 7,
   "metadata": {},
   "outputs": [
    {
     "data": {
      "text/plain": [
       "<os._wrap_close at 0x111b4dea0>"
      ]
     },
     "execution_count": 7,
     "metadata": {},
     "output_type": "execute_result"
    },
    {
     "name": "stderr",
     "output_type": "stream",
     "text": [
      "INFO 2023-03-25 23:48:42,675 __main__             Arguments:\n",
      "bampath : ./../../../bams/\n",
      "bc_file : ./../data/sample_barcodes_test.txt\n",
      "chrom_size : ./../data/hg19.chrom.sizes\n",
      "window_size : 5000000\n",
      "rundir : /Users/shaomiao/Desktop/BIOINF576/CNVisualize/CNVisualize/df_test.csv\n",
      "INFO 2023-03-25 23:48:42,676 __main__             Start TGTGGTATCGATAGGG-1_B11\n",
      "INFO 2023-03-25 23:49:15,077 __main__             Start TGCGGGTCATTCAGTG-1_B11\n",
      "INFO 2023-03-25 23:49:46,701 __main__             Dataframe generated in /Users/shaomiao/Desktop/BIOINF576/CNVisualize/CNVisualize/df_test.csv\n"
     ]
    }
   ],
   "source": [
    "bam_path = \"./../data/sorted_split_bams/\"\n",
    "barcode_path = \"./../data/sample_barcodes_test.txt\"\n",
    "chrom_size_path = \"./../data/hg19.chrom.sizes\"\n",
    "window_size = int(5e6)\n",
    "out_dir = \"./df_test.csv\"\n",
    "\n",
    "os.popen(\"python get_dataframe.py -i %s -b %s -c %s -w %s -o %s\" % (bam_path, barcode_path, chrom_size_path, window_size, out_dir))"
   ]
  }
 ],
 "metadata": {
  "kernelspec": {
   "display_name": "sam",
   "language": "python",
   "name": "python3"
  },
  "language_info": {
   "codemirror_mode": {
    "name": "ipython",
    "version": 3
   },
   "file_extension": ".py",
   "mimetype": "text/x-python",
   "name": "python",
   "nbconvert_exporter": "python",
   "pygments_lexer": "ipython3",
   "version": "3.10.2"
  },
  "orig_nbformat": 4,
  "vscode": {
   "interpreter": {
    "hash": "bb36f61d764201753e76b5acec5b09f6f67f3728686f7926ae7799ce98714575"
   }
  }
 },
 "nbformat": 4,
 "nbformat_minor": 2
}
